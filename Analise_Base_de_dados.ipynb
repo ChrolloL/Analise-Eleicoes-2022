{
  "nbformat": 4,
  "nbformat_minor": 0,
  "metadata": {
    "colab": {
      "provenance": []
    },
    "kernelspec": {
      "name": "python3",
      "display_name": "Python 3"
    },
    "language_info": {
      "name": "python"
    }
  },
  "cells": [
    {
      "cell_type": "markdown",
      "source": [
        "Aqui eu importo as bibliotecas utilizadas, instancio o objeto para a regressão linear e obtenho o dataframe a partir da base salva no meu Drive."
      ],
      "metadata": {
        "id": "F1UDqkWxLAy0"
      }
    },
    {
      "cell_type": "code",
      "source": [
        "import pandas as pd\n",
        "import numpy as np\n",
        "import matplotlib.pyplot as plt\n",
        "import datetime as dt\n",
        "from datetime import datetime\n",
        "from ast import Lambda\n",
        "from sklearn.linear_model import LinearRegression\n",
        "rl = LinearRegression()\n",
        "df = pd.read_csv('/content/drive/MyDrive/Tópicos/base_pesquisas_eleitorais.zip')\n"
      ],
      "metadata": {
        "id": "X2vE6CbsB6ja"
      },
      "execution_count": null,
      "outputs": []
    },
    {
      "cell_type": "markdown",
      "source": [
        "A base escolhida é fornecida pelo grupo de comunicação Poder360, e se trata de dados de pesquisas eleitorais compilados pelo mesmo. Segue o link para a base: https://basedosdados.org/dataset/br-poder360-pesquisas?bdm_table=microdados\n",
        "\n",
        "A base abrange as pesquisas eleitorais para as eleições de 2000 até 2022, porém nessa análise optei pelas pesquisas para 2022.\n"
      ],
      "metadata": {
        "id": "NtrYVNBdHokm"
      }
    },
    {
      "cell_type": "code",
      "source": [
        "df"
      ],
      "metadata": {
        "colab": {
          "base_uri": "https://localhost:8080/",
          "height": 661
        },
        "id": "ZYC7IZUdGCjq",
        "outputId": "64c7b034-2400-4baf-fb1e-1cc501963c02"
      },
      "execution_count": null,
      "outputs": [
        {
          "output_type": "execute_result",
          "data": {
            "text/plain": [
              "        id_pesquisa   ano sigla_uf         nome_municipio       cargo  \\\n",
              "0              3881  2000       RJ  Campos dos Goytacazes    prefeito   \n",
              "1              3881  2000       RJ  Campos dos Goytacazes    prefeito   \n",
              "2              3881  2000       RJ  Campos dos Goytacazes    prefeito   \n",
              "3              3881  2000       RJ  Campos dos Goytacazes    prefeito   \n",
              "4              3881  2000       RJ  Campos dos Goytacazes    prefeito   \n",
              "...             ...   ...      ...                    ...         ...   \n",
              "132598         9768  2022      NaN                    NaN  presidente   \n",
              "132599         9768  2022      NaN                    NaN  presidente   \n",
              "132600         9768  2022      NaN                    NaN  presidente   \n",
              "132601         9768  2022      NaN                    NaN  presidente   \n",
              "132602         9768  2022      NaN                    NaN  presidente   \n",
              "\n",
              "              data data_referencia   instituto contratante orgao_registro  \\\n",
              "0       2000-01-01          jan/00  Brasmarket         NaN            NaN   \n",
              "1       2000-01-01          jan/00  Brasmarket         NaN            NaN   \n",
              "2       2000-01-01          jan/00  Brasmarket         NaN            NaN   \n",
              "3       2000-01-01          jan/00  Brasmarket         NaN            NaN   \n",
              "4       2000-01-01          jan/00  Brasmarket         NaN            NaN   \n",
              "...            ...             ...         ...         ...            ...   \n",
              "132598  2021-12-21  19-21.dez.2021   PoderData         NaN            NaN   \n",
              "132599  2021-12-21  19-21.dez.2021   PoderData         NaN            NaN   \n",
              "132600  2021-12-21  19-21.dez.2021   PoderData         NaN            NaN   \n",
              "132601  2021-12-21  19-21.dez.2021   PoderData         NaN            NaN   \n",
              "132602  2021-12-21  19-21.dez.2021   PoderData         NaN            NaN   \n",
              "\n",
              "        ...        tipo  turno     tipo_voto  id_cenario  \\\n",
              "0       ...  estimulada      1  votos totais       10065   \n",
              "1       ...  estimulada      1  votos totais       10065   \n",
              "2       ...  estimulada      1  votos totais       10065   \n",
              "3       ...  estimulada      1  votos totais       10066   \n",
              "4       ...  estimulada      1  votos totais       10066   \n",
              "...     ...         ...    ...           ...         ...   \n",
              "132598  ...  estimulada      2  votos totais       24697   \n",
              "132599  ...  estimulada      2  votos totais       24698   \n",
              "132600  ...  estimulada      2  votos totais       24698   \n",
              "132601  ...  estimulada      2  votos totais       24698   \n",
              "132602  ...  estimulada      2  votos totais       24698   \n",
              "\n",
              "                        descricao_cenario  id_candidato_poder360  \\\n",
              "0                     Diversos candidatos                   2219   \n",
              "1                     Diversos candidatos                   1996   \n",
              "2                     Diversos candidatos                   1273   \n",
              "3                     Diversos candidatos                   4227   \n",
              "4                     Diversos candidatos                   1541   \n",
              "...                                   ...                    ...   \n",
              "132598  cenário 5 - estimulado - 2º turno                   1583   \n",
              "132599  cenário 6 - estimulado - 2º turno                    289   \n",
              "132600  cenário 6 - estimulado - 2º turno                   5046   \n",
              "132601  cenário 6 - estimulado - 2º turno                    973   \n",
              "132602  cenário 6 - estimulado - 2º turno                    209   \n",
              "\n",
              "       nome_candidato  sigla_partido condicao  percentual  \n",
              "0            Claudeci            NaN        0        21.0  \n",
              "1       Arnaldo Viana            PDT        0        47.0  \n",
              "2         Paulo Feijó           PMDB        0        10.0  \n",
              "3          Rockefeler            NaN        0         4.0  \n",
              "4       Sem candidato            NaN        1        18.0  \n",
              "...               ...            ...      ...         ...  \n",
              "132598    Sergio Moro        Podemos        0        30.0  \n",
              "132599           Ciro            PDT        0        19.0  \n",
              "132600       não sabe            NaN        1         3.0  \n",
              "132601           Lula             PT        0        50.0  \n",
              "132602  branco / nulo            NaN        1        27.0  \n",
              "\n",
              "[132603 rows x 24 columns]"
            ],
            "text/html": [
              "\n",
              "  <div id=\"df-b2e6954d-0f28-42e6-9d8c-80ce0c68f82e\">\n",
              "    <div class=\"colab-df-container\">\n",
              "      <div>\n",
              "<style scoped>\n",
              "    .dataframe tbody tr th:only-of-type {\n",
              "        vertical-align: middle;\n",
              "    }\n",
              "\n",
              "    .dataframe tbody tr th {\n",
              "        vertical-align: top;\n",
              "    }\n",
              "\n",
              "    .dataframe thead th {\n",
              "        text-align: right;\n",
              "    }\n",
              "</style>\n",
              "<table border=\"1\" class=\"dataframe\">\n",
              "  <thead>\n",
              "    <tr style=\"text-align: right;\">\n",
              "      <th></th>\n",
              "      <th>id_pesquisa</th>\n",
              "      <th>ano</th>\n",
              "      <th>sigla_uf</th>\n",
              "      <th>nome_municipio</th>\n",
              "      <th>cargo</th>\n",
              "      <th>data</th>\n",
              "      <th>data_referencia</th>\n",
              "      <th>instituto</th>\n",
              "      <th>contratante</th>\n",
              "      <th>orgao_registro</th>\n",
              "      <th>...</th>\n",
              "      <th>tipo</th>\n",
              "      <th>turno</th>\n",
              "      <th>tipo_voto</th>\n",
              "      <th>id_cenario</th>\n",
              "      <th>descricao_cenario</th>\n",
              "      <th>id_candidato_poder360</th>\n",
              "      <th>nome_candidato</th>\n",
              "      <th>sigla_partido</th>\n",
              "      <th>condicao</th>\n",
              "      <th>percentual</th>\n",
              "    </tr>\n",
              "  </thead>\n",
              "  <tbody>\n",
              "    <tr>\n",
              "      <th>0</th>\n",
              "      <td>3881</td>\n",
              "      <td>2000</td>\n",
              "      <td>RJ</td>\n",
              "      <td>Campos dos Goytacazes</td>\n",
              "      <td>prefeito</td>\n",
              "      <td>2000-01-01</td>\n",
              "      <td>jan/00</td>\n",
              "      <td>Brasmarket</td>\n",
              "      <td>NaN</td>\n",
              "      <td>NaN</td>\n",
              "      <td>...</td>\n",
              "      <td>estimulada</td>\n",
              "      <td>1</td>\n",
              "      <td>votos totais</td>\n",
              "      <td>10065</td>\n",
              "      <td>Diversos candidatos</td>\n",
              "      <td>2219</td>\n",
              "      <td>Claudeci</td>\n",
              "      <td>NaN</td>\n",
              "      <td>0</td>\n",
              "      <td>21.0</td>\n",
              "    </tr>\n",
              "    <tr>\n",
              "      <th>1</th>\n",
              "      <td>3881</td>\n",
              "      <td>2000</td>\n",
              "      <td>RJ</td>\n",
              "      <td>Campos dos Goytacazes</td>\n",
              "      <td>prefeito</td>\n",
              "      <td>2000-01-01</td>\n",
              "      <td>jan/00</td>\n",
              "      <td>Brasmarket</td>\n",
              "      <td>NaN</td>\n",
              "      <td>NaN</td>\n",
              "      <td>...</td>\n",
              "      <td>estimulada</td>\n",
              "      <td>1</td>\n",
              "      <td>votos totais</td>\n",
              "      <td>10065</td>\n",
              "      <td>Diversos candidatos</td>\n",
              "      <td>1996</td>\n",
              "      <td>Arnaldo Viana</td>\n",
              "      <td>PDT</td>\n",
              "      <td>0</td>\n",
              "      <td>47.0</td>\n",
              "    </tr>\n",
              "    <tr>\n",
              "      <th>2</th>\n",
              "      <td>3881</td>\n",
              "      <td>2000</td>\n",
              "      <td>RJ</td>\n",
              "      <td>Campos dos Goytacazes</td>\n",
              "      <td>prefeito</td>\n",
              "      <td>2000-01-01</td>\n",
              "      <td>jan/00</td>\n",
              "      <td>Brasmarket</td>\n",
              "      <td>NaN</td>\n",
              "      <td>NaN</td>\n",
              "      <td>...</td>\n",
              "      <td>estimulada</td>\n",
              "      <td>1</td>\n",
              "      <td>votos totais</td>\n",
              "      <td>10065</td>\n",
              "      <td>Diversos candidatos</td>\n",
              "      <td>1273</td>\n",
              "      <td>Paulo Feijó</td>\n",
              "      <td>PMDB</td>\n",
              "      <td>0</td>\n",
              "      <td>10.0</td>\n",
              "    </tr>\n",
              "    <tr>\n",
              "      <th>3</th>\n",
              "      <td>3881</td>\n",
              "      <td>2000</td>\n",
              "      <td>RJ</td>\n",
              "      <td>Campos dos Goytacazes</td>\n",
              "      <td>prefeito</td>\n",
              "      <td>2000-01-01</td>\n",
              "      <td>jan/00</td>\n",
              "      <td>Brasmarket</td>\n",
              "      <td>NaN</td>\n",
              "      <td>NaN</td>\n",
              "      <td>...</td>\n",
              "      <td>estimulada</td>\n",
              "      <td>1</td>\n",
              "      <td>votos totais</td>\n",
              "      <td>10066</td>\n",
              "      <td>Diversos candidatos</td>\n",
              "      <td>4227</td>\n",
              "      <td>Rockefeler</td>\n",
              "      <td>NaN</td>\n",
              "      <td>0</td>\n",
              "      <td>4.0</td>\n",
              "    </tr>\n",
              "    <tr>\n",
              "      <th>4</th>\n",
              "      <td>3881</td>\n",
              "      <td>2000</td>\n",
              "      <td>RJ</td>\n",
              "      <td>Campos dos Goytacazes</td>\n",
              "      <td>prefeito</td>\n",
              "      <td>2000-01-01</td>\n",
              "      <td>jan/00</td>\n",
              "      <td>Brasmarket</td>\n",
              "      <td>NaN</td>\n",
              "      <td>NaN</td>\n",
              "      <td>...</td>\n",
              "      <td>estimulada</td>\n",
              "      <td>1</td>\n",
              "      <td>votos totais</td>\n",
              "      <td>10066</td>\n",
              "      <td>Diversos candidatos</td>\n",
              "      <td>1541</td>\n",
              "      <td>Sem candidato</td>\n",
              "      <td>NaN</td>\n",
              "      <td>1</td>\n",
              "      <td>18.0</td>\n",
              "    </tr>\n",
              "    <tr>\n",
              "      <th>...</th>\n",
              "      <td>...</td>\n",
              "      <td>...</td>\n",
              "      <td>...</td>\n",
              "      <td>...</td>\n",
              "      <td>...</td>\n",
              "      <td>...</td>\n",
              "      <td>...</td>\n",
              "      <td>...</td>\n",
              "      <td>...</td>\n",
              "      <td>...</td>\n",
              "      <td>...</td>\n",
              "      <td>...</td>\n",
              "      <td>...</td>\n",
              "      <td>...</td>\n",
              "      <td>...</td>\n",
              "      <td>...</td>\n",
              "      <td>...</td>\n",
              "      <td>...</td>\n",
              "      <td>...</td>\n",
              "      <td>...</td>\n",
              "      <td>...</td>\n",
              "    </tr>\n",
              "    <tr>\n",
              "      <th>132598</th>\n",
              "      <td>9768</td>\n",
              "      <td>2022</td>\n",
              "      <td>NaN</td>\n",
              "      <td>NaN</td>\n",
              "      <td>presidente</td>\n",
              "      <td>2021-12-21</td>\n",
              "      <td>19-21.dez.2021</td>\n",
              "      <td>PoderData</td>\n",
              "      <td>NaN</td>\n",
              "      <td>NaN</td>\n",
              "      <td>...</td>\n",
              "      <td>estimulada</td>\n",
              "      <td>2</td>\n",
              "      <td>votos totais</td>\n",
              "      <td>24697</td>\n",
              "      <td>cenário 5 - estimulado - 2º turno</td>\n",
              "      <td>1583</td>\n",
              "      <td>Sergio Moro</td>\n",
              "      <td>Podemos</td>\n",
              "      <td>0</td>\n",
              "      <td>30.0</td>\n",
              "    </tr>\n",
              "    <tr>\n",
              "      <th>132599</th>\n",
              "      <td>9768</td>\n",
              "      <td>2022</td>\n",
              "      <td>NaN</td>\n",
              "      <td>NaN</td>\n",
              "      <td>presidente</td>\n",
              "      <td>2021-12-21</td>\n",
              "      <td>19-21.dez.2021</td>\n",
              "      <td>PoderData</td>\n",
              "      <td>NaN</td>\n",
              "      <td>NaN</td>\n",
              "      <td>...</td>\n",
              "      <td>estimulada</td>\n",
              "      <td>2</td>\n",
              "      <td>votos totais</td>\n",
              "      <td>24698</td>\n",
              "      <td>cenário 6 - estimulado - 2º turno</td>\n",
              "      <td>289</td>\n",
              "      <td>Ciro</td>\n",
              "      <td>PDT</td>\n",
              "      <td>0</td>\n",
              "      <td>19.0</td>\n",
              "    </tr>\n",
              "    <tr>\n",
              "      <th>132600</th>\n",
              "      <td>9768</td>\n",
              "      <td>2022</td>\n",
              "      <td>NaN</td>\n",
              "      <td>NaN</td>\n",
              "      <td>presidente</td>\n",
              "      <td>2021-12-21</td>\n",
              "      <td>19-21.dez.2021</td>\n",
              "      <td>PoderData</td>\n",
              "      <td>NaN</td>\n",
              "      <td>NaN</td>\n",
              "      <td>...</td>\n",
              "      <td>estimulada</td>\n",
              "      <td>2</td>\n",
              "      <td>votos totais</td>\n",
              "      <td>24698</td>\n",
              "      <td>cenário 6 - estimulado - 2º turno</td>\n",
              "      <td>5046</td>\n",
              "      <td>não sabe</td>\n",
              "      <td>NaN</td>\n",
              "      <td>1</td>\n",
              "      <td>3.0</td>\n",
              "    </tr>\n",
              "    <tr>\n",
              "      <th>132601</th>\n",
              "      <td>9768</td>\n",
              "      <td>2022</td>\n",
              "      <td>NaN</td>\n",
              "      <td>NaN</td>\n",
              "      <td>presidente</td>\n",
              "      <td>2021-12-21</td>\n",
              "      <td>19-21.dez.2021</td>\n",
              "      <td>PoderData</td>\n",
              "      <td>NaN</td>\n",
              "      <td>NaN</td>\n",
              "      <td>...</td>\n",
              "      <td>estimulada</td>\n",
              "      <td>2</td>\n",
              "      <td>votos totais</td>\n",
              "      <td>24698</td>\n",
              "      <td>cenário 6 - estimulado - 2º turno</td>\n",
              "      <td>973</td>\n",
              "      <td>Lula</td>\n",
              "      <td>PT</td>\n",
              "      <td>0</td>\n",
              "      <td>50.0</td>\n",
              "    </tr>\n",
              "    <tr>\n",
              "      <th>132602</th>\n",
              "      <td>9768</td>\n",
              "      <td>2022</td>\n",
              "      <td>NaN</td>\n",
              "      <td>NaN</td>\n",
              "      <td>presidente</td>\n",
              "      <td>2021-12-21</td>\n",
              "      <td>19-21.dez.2021</td>\n",
              "      <td>PoderData</td>\n",
              "      <td>NaN</td>\n",
              "      <td>NaN</td>\n",
              "      <td>...</td>\n",
              "      <td>estimulada</td>\n",
              "      <td>2</td>\n",
              "      <td>votos totais</td>\n",
              "      <td>24698</td>\n",
              "      <td>cenário 6 - estimulado - 2º turno</td>\n",
              "      <td>209</td>\n",
              "      <td>branco / nulo</td>\n",
              "      <td>NaN</td>\n",
              "      <td>1</td>\n",
              "      <td>27.0</td>\n",
              "    </tr>\n",
              "  </tbody>\n",
              "</table>\n",
              "<p>132603 rows × 24 columns</p>\n",
              "</div>\n",
              "      <button class=\"colab-df-convert\" onclick=\"convertToInteractive('df-b2e6954d-0f28-42e6-9d8c-80ce0c68f82e')\"\n",
              "              title=\"Convert this dataframe to an interactive table.\"\n",
              "              style=\"display:none;\">\n",
              "        \n",
              "  <svg xmlns=\"http://www.w3.org/2000/svg\" height=\"24px\"viewBox=\"0 0 24 24\"\n",
              "       width=\"24px\">\n",
              "    <path d=\"M0 0h24v24H0V0z\" fill=\"none\"/>\n",
              "    <path d=\"M18.56 5.44l.94 2.06.94-2.06 2.06-.94-2.06-.94-.94-2.06-.94 2.06-2.06.94zm-11 1L8.5 8.5l.94-2.06 2.06-.94-2.06-.94L8.5 2.5l-.94 2.06-2.06.94zm10 10l.94 2.06.94-2.06 2.06-.94-2.06-.94-.94-2.06-.94 2.06-2.06.94z\"/><path d=\"M17.41 7.96l-1.37-1.37c-.4-.4-.92-.59-1.43-.59-.52 0-1.04.2-1.43.59L10.3 9.45l-7.72 7.72c-.78.78-.78 2.05 0 2.83L4 21.41c.39.39.9.59 1.41.59.51 0 1.02-.2 1.41-.59l7.78-7.78 2.81-2.81c.8-.78.8-2.07 0-2.86zM5.41 20L4 18.59l7.72-7.72 1.47 1.35L5.41 20z\"/>\n",
              "  </svg>\n",
              "      </button>\n",
              "      \n",
              "  <style>\n",
              "    .colab-df-container {\n",
              "      display:flex;\n",
              "      flex-wrap:wrap;\n",
              "      gap: 12px;\n",
              "    }\n",
              "\n",
              "    .colab-df-convert {\n",
              "      background-color: #E8F0FE;\n",
              "      border: none;\n",
              "      border-radius: 50%;\n",
              "      cursor: pointer;\n",
              "      display: none;\n",
              "      fill: #1967D2;\n",
              "      height: 32px;\n",
              "      padding: 0 0 0 0;\n",
              "      width: 32px;\n",
              "    }\n",
              "\n",
              "    .colab-df-convert:hover {\n",
              "      background-color: #E2EBFA;\n",
              "      box-shadow: 0px 1px 2px rgba(60, 64, 67, 0.3), 0px 1px 3px 1px rgba(60, 64, 67, 0.15);\n",
              "      fill: #174EA6;\n",
              "    }\n",
              "\n",
              "    [theme=dark] .colab-df-convert {\n",
              "      background-color: #3B4455;\n",
              "      fill: #D2E3FC;\n",
              "    }\n",
              "\n",
              "    [theme=dark] .colab-df-convert:hover {\n",
              "      background-color: #434B5C;\n",
              "      box-shadow: 0px 1px 3px 1px rgba(0, 0, 0, 0.15);\n",
              "      filter: drop-shadow(0px 1px 2px rgba(0, 0, 0, 0.3));\n",
              "      fill: #FFFFFF;\n",
              "    }\n",
              "  </style>\n",
              "\n",
              "      <script>\n",
              "        const buttonEl =\n",
              "          document.querySelector('#df-b2e6954d-0f28-42e6-9d8c-80ce0c68f82e button.colab-df-convert');\n",
              "        buttonEl.style.display =\n",
              "          google.colab.kernel.accessAllowed ? 'block' : 'none';\n",
              "\n",
              "        async function convertToInteractive(key) {\n",
              "          const element = document.querySelector('#df-b2e6954d-0f28-42e6-9d8c-80ce0c68f82e');\n",
              "          const dataTable =\n",
              "            await google.colab.kernel.invokeFunction('convertToInteractive',\n",
              "                                                     [key], {});\n",
              "          if (!dataTable) return;\n",
              "\n",
              "          const docLinkHtml = 'Like what you see? Visit the ' +\n",
              "            '<a target=\"_blank\" href=https://colab.research.google.com/notebooks/data_table.ipynb>data table notebook</a>'\n",
              "            + ' to learn more about interactive tables.';\n",
              "          element.innerHTML = '';\n",
              "          dataTable['output_type'] = 'display_data';\n",
              "          await google.colab.output.renderOutput(dataTable, element);\n",
              "          const docLink = document.createElement('div');\n",
              "          docLink.innerHTML = docLinkHtml;\n",
              "          element.appendChild(docLink);\n",
              "        }\n",
              "      </script>\n",
              "    </div>\n",
              "  </div>\n",
              "  "
            ]
          },
          "metadata": {},
          "execution_count": 2
        }
      ]
    },
    {
      "cell_type": "markdown",
      "source": [
        "Como podemos ver, a base possui mais de 130 mil linhas e 24 colunas.\n",
        "As colunas utilizadas serão a de Data, que apresenta a data de determinada pesquisa, e a coluna de Percentuais, que apresenta o percentual de votos previsto para o respectivo candidato.\n",
        "Pelo fato das datas estarem no formato yyyy/mm/dd, será necessário convertê-las para um formato que apresente o n° de dias contados a partir do dia inicial, que aqui se trata do primeiro dia das pesquisas para 2022, 18/08/2019. Essa conversão se faz necessária pois será utilizado o algoritmo de Regressão Linear, que necessita que os dados estejam organizados de forma linear e ordenada."
      ],
      "metadata": {
        "id": "u2QEB0t0Mp-Y"
      }
    },
    {
      "cell_type": "markdown",
      "source": [
        "\n",
        "\n",
        "> Aqui eu faço um array com todas as datas do período de pesquisas para as eleições de 2022, para que seja possível localizar a data equivalente baseado no n° de dias contados.\n",
        "\n"
      ],
      "metadata": {
        "id": "5M9Js5pVOTx3"
      }
    },
    {
      "cell_type": "code",
      "source": [
        "test_date = dt.datetime(2019, 8, 18)\n",
        "K = 857\n",
        "res = [test_date + dt.timedelta(days=idx) for idx in range(K)]\n",
        "datas =  list(str(val)[:10] for val in res)\n"
      ],
      "metadata": {
        "id": "1nu97liGBsEx"
      },
      "execution_count": null,
      "outputs": []
    },
    {
      "cell_type": "markdown",
      "source": [
        "\n",
        "\n",
        "> Aqui eu faço algumas funções de formatação de datas, pois as datas não estão ordenadas no dataframe, então terei de converter elas para inteiro\n",
        "\n"
      ],
      "metadata": {
        "id": "FklPErAuOt7B"
      }
    },
    {
      "cell_type": "code",
      "source": [
        "#se o numero for de apenas um digito, adiciona um zero na frente\n",
        "def converterData(data):\n",
        "  if len(str(data)) == 1:\n",
        "    return '0'+str(data)\n",
        "  else:\n",
        "    return str(data)\n",
        "\n",
        "#funcao para colocar as listas com as datas ordenadas no formato de data\n",
        "def formatarDatas(datas):\n",
        "  for i in range(len(datas)):\n",
        "    for j in range(len(datas[i])):\n",
        "      datas[i][j] = converterData(datas[i][j])\n",
        "\n",
        "\n",
        "  for i in range(len(datas)):\n",
        "    datas[i] = '-'.join(datas[i])\n",
        "\n",
        "  return datas\n",
        "\n",
        "\n",
        "#funcao para calcular o n° de dias de acordo com a data inicial das pesquisas para 2022: '2019-08-18'\n",
        "def calcularDias(data):\n",
        "\n",
        "  # Data final\n",
        "  d2 = datetime.strptime(data, '%Y-%m-%d')\n",
        "  # Data inicial\n",
        "  d1 = datetime.strptime('2019-08-18', '%Y-%m-%d')\n",
        "\n",
        "\n",
        "  return abs((d2 - d1).days)\n",
        "\n",
        "#função que calcula a data equivalente de acordo com o nº de dias contados a partir de 2019-08-18\n",
        "def dataEquivalente(dias):\n",
        "  for i in datas:\n",
        "    if calcularDias(i) == dias:\n",
        "      return i\n",
        "  return \"Data não encontrada!\"\n"
      ],
      "metadata": {
        "id": "xmZY2wAqOs1B"
      },
      "execution_count": null,
      "outputs": []
    },
    {
      "cell_type": "markdown",
      "source": [
        "\n",
        "\n",
        "> Aqui eu faço uma função para preparar um dataframe para a Regressão Linear, de acordo com o candidato e o turno escolhido\n",
        "\n"
      ],
      "metadata": {
        "id": "36I96IipBPgH"
      }
    },
    {
      "cell_type": "code",
      "source": [
        "def prepararDados(turno, candidato):\n",
        "  df2022 = df[df['nome_candidato'] == candidato][df['ano'] == 2022] \n",
        "  df_turno = df2022[df2022['turno'] == turno]\n",
        "  datas = df_turno['data'].unique() \n",
        "  \n",
        "\n",
        "\n",
        "  datas_sort = []\n",
        "\n",
        "  for i in datas:\n",
        "    datas_sort.append(i.split('-')) \n",
        "\n",
        "  #colocando as datas em inteiro para ordená-las\n",
        "  for i in range(len(datas_sort)):\n",
        "    datas_sort[i] = list(int(val) for val in datas_sort[i]) \n",
        "\n",
        "\n",
        "  datas_2019 , datas_2020, datas_2021 = [], [], []\n",
        "\n",
        "  #separando as datas de acordo com o ano\n",
        "  for i in datas_sort:\n",
        "    if i[0] == 2019:\n",
        "      datas_2019.append(i)\n",
        "    elif i[0] == 2020:\n",
        "      datas_2020.append(i)\n",
        "    else:\n",
        "      datas_2021.append(i)\n",
        "\n",
        "\n",
        "  #ordenando valores de acordo com o mês\n",
        "  datas_2019 = sorted(datas_2019, key = lambda x:x[1])\n",
        "  datas_2020 = sorted(datas_2020, key = lambda x:x[1])\n",
        "  datas_2021 = sorted(datas_2021, key = lambda x:x[1])\n",
        "\n",
        "  datas_2019 = formatarDatas(datas_2019)\n",
        "  datas_2020 = formatarDatas(datas_2020)\n",
        "  datas_2021 = formatarDatas(datas_2021)\n",
        "\n",
        "  datas_em_dias = []\n",
        "\n",
        "  for i in [datas_2019, datas_2020, datas_2021]:\n",
        "    for j in i:\n",
        "      datas_em_dias.append(calcularDias(j))\n",
        "    \n",
        "\n",
        "  datas_em_dias_sorted = []\n",
        "\n",
        "  for i in range(len(df_turno['data'])):\n",
        "    for j in datas_em_dias:\n",
        "      if calcularDias(df_turno['data'].iloc[i]) == j:\n",
        "          datas_em_dias_sorted.append(j)\n",
        "\n",
        "\n",
        "\n",
        "  dfPreparado = {\n",
        "      'Data': datas_em_dias_sorted,\n",
        "      'Percentual': list(df_turno['percentual'])\n",
        "  }\n",
        "\n",
        "  dfPreparado = pd.DataFrame(dfPreparado).sort_values('Data')\n",
        "  return dfPreparado"
      ],
      "metadata": {
        "id": "8Ij4pshW7xFK"
      },
      "execution_count": null,
      "outputs": []
    },
    {
      "cell_type": "code",
      "source": [
        "dfPreparado = prepararDados(2 ,'Bolsonaro')\n",
        "dfPreparado = dfPreparado.loc[(dfPreparado['Data'] > 300), ['Data', 'Percentual']]\n",
        "dfPreparado = dfPreparado.loc[(dfPreparado['Data'] < 800), ['Data', 'Percentual']]\n",
        "x, y = dfPreparado['Data'], dfPreparado['Percentual']\n",
        "x_reshape = x.values.reshape(-1, 1)\n",
        "y_flatten = y.values.flatten()\n",
        "rl.fit(x_reshape, y_flatten)\n",
        "plt.scatter(x, y)\n",
        "x_arr = np.array(x_reshape).reshape(-1,1)\n",
        "y_pred  = rl.predict(x_arr)\n",
        "plt.plot(x_arr.flatten(), y_pred.flatten(), 'g',linewidth=3)\n",
        "corr = dfPreparado['Percentual'].corr(dfPreparado['Data'])\n",
        "print(\"Correlação entre a data e o percentual:\", corr)"
      ],
      "metadata": {
        "id": "j4tjJj6pBTyp",
        "colab": {
          "base_uri": "https://localhost:8080/",
          "height": 317
        },
        "outputId": "610ad3fd-1dac-48f3-8fd9-99b0476226ba"
      },
      "execution_count": null,
      "outputs": [
        {
          "output_type": "stream",
          "name": "stderr",
          "text": [
            "/usr/local/lib/python3.7/dist-packages/ipykernel_launcher.py:2: UserWarning: Boolean Series key will be reindexed to match DataFrame index.\n",
            "  \n"
          ]
        },
        {
          "output_type": "stream",
          "name": "stdout",
          "text": [
            "Correlação entre a data e o percentual: -0.679638606061951\n"
          ]
        },
        {
          "output_type": "display_data",
          "data": {
            "text/plain": [
              "<Figure size 432x288 with 1 Axes>"
            ],
            "image/png": "[encoded data removed]"
          },
          "metadata": {
            "needs_background": "light"
          }
        }
      ]
    },
    {
      "cell_type": "markdown",
      "source": [
        "Acima eu fiz uma predição tendo como variável independente a data naquele formato de dias contados já mencionado, e variável dependente os percentuais das pesquisas para 2º Turno para o candidato Jair Bolsonaro. A correlação entre as variáveis aqui é expressiva."
      ],
      "metadata": {
        "id": "6EbkdxQxE9Ex"
      }
    },
    {
      "cell_type": "code",
      "source": [
        "dfPreparado = prepararDados(2,'Lula')\n",
        "dfPreparado = dfPreparado.loc[(dfPreparado['Data'] > 600), ['Data', 'Percentual']]\n",
        "x, y = dfPreparado['Data'], dfPreparado['Percentual']\n",
        "x_reshape = x.values.reshape(-1, 1)\n",
        "y_flatten = y.values.flatten()\n",
        "rl.fit(x_reshape, y_flatten)\n",
        "x_arr = np.array(x_reshape).reshape(-1,1) #prepara para o formato adequado\n",
        "y_pred  = rl.predict(x_arr) #calcula a predição\n",
        "plt.scatter(x, y)\n",
        "corr = dfPreparado['Percentual'].corr(dfPreparado['Data'])\n",
        "print(\"Correlação entre a data e o percentual:\", corr)\n",
        "plt.plot(x_reshape.flatten(), y_pred.flatten(), 'g',linewidth=3)"
      ],
      "metadata": {
        "colab": {
          "base_uri": "https://localhost:8080/",
          "height": 334
        },
        "id": "5CuNfv_QKw8q",
        "outputId": "c3be9973-d5d6-47f9-f30f-1ae9a0607570"
      },
      "execution_count": null,
      "outputs": [
        {
          "output_type": "stream",
          "name": "stderr",
          "text": [
            "/usr/local/lib/python3.7/dist-packages/ipykernel_launcher.py:2: UserWarning: Boolean Series key will be reindexed to match DataFrame index.\n",
            "  \n"
          ]
        },
        {
          "output_type": "stream",
          "name": "stdout",
          "text": [
            "Correlação entre a data e o percentual: 0.3346024696199348\n"
          ]
        },
        {
          "output_type": "execute_result",
          "data": {
            "text/plain": [
              "[<matplotlib.lines.Line2D at 0x7f68430e4a90>]"
            ]
          },
          "metadata": {},
          "execution_count": 28
        },
        {
          "output_type": "display_data",
          "data": {
            "text/plain": [
              "<Figure size 432x288 with 1 Axes>"
            ],
            "image/png": "[encoded data removed]"
          },
          "metadata": {
            "needs_background": "light"
          }
        }
      ]
    },
    {
      "cell_type": "markdown",
      "source": [
        "Acima eu fiz o mesmo que no passo anterior porém para o candidato Lula. Como se pode ver, a correlação aqui não é tão alta quanto na predição anterior."
      ],
      "metadata": {
        "id": "xH9auAW5FrD-"
      }
    },
    {
      "cell_type": "markdown",
      "source": [
        "Em ambas as predições o intervalo de datas foi cortado para que a predição fosse mais precisa."
      ],
      "metadata": {
        "id": "n9Sq-YrsHO4E"
      }
    },
    {
      "cell_type": "markdown",
      "source": [
        "Se analisarmos as retas das duas regressões lineares feitas veremos que os gráficos condizem bastante com o resultado das eleições, afinal os percentuais do Bolsonaro começam altos e vão diminuindo, já no gráfico do candidato Lula ocorre o contrário, este último vencedor das eleições no segundo turno."
      ],
      "metadata": {
        "id": "I4MMABcPGfue"
      }
    },
    {
      "cell_type": "markdown",
      "source": [],
      "metadata": {
        "id": "iY78vRVyB4jN"
      }
    }
  ]
}